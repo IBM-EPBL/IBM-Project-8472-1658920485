{
  "nbformat": 4,
  "nbformat_minor": 0,
  "metadata": {
    "colab": {
      "provenance": []
    },
    "kernelspec": {
      "name": "python3",
      "display_name": "Python 3"
    },
    "language_info": {
      "name": "python"
    }
  },
  "cells": [
    {
      "cell_type": "code",
      "execution_count": null,
      "metadata": {
        "id": "jOc-5tV63zvB"
      },
      "outputs": [],
      "source": [
        "import numpy as np\n",
        "import pandas as pd\n",
        "import seaborn as sns\n",
        "import matplotlib.pyplot as plt\n",
        "import warnings\n",
        "import pickle"
      ]
    },
    {
      "cell_type": "code",
      "source": [
        "data = pd.read_csv('water_data.csv', encoding ='Latin-1', low_memory= False)\n",
        "data.head()"
      ],
      "metadata": {
        "colab": {
          "base_uri": "https://localhost:8080/",
          "height": 513
        },
        "id": "zauZRiO04EGk",
        "outputId": "a6b60aad-5da0-4a8c-f5a2-cc1a7680537a"
      },
      "execution_count": null,
      "outputs": [
        {
          "output_type": "execute_result",
          "data": {
            "text/plain": [
              "  STATION CODE                                          LOCATIONS  \\\n",
              "0         1393               DAMANGANGA AT D/S OF MADHUBAN, DAMAN   \n",
              "1         1399  ZUARI AT D/S OF PT. WHERE KUMBARJRIA CANAL JOI...   \n",
              "2         1475                                ZUARI AT PANCHAWADI   \n",
              "3         3181                        RIVER ZUARI AT BORIM BRIDGE   \n",
              "4         3182                       RIVER ZUARI AT MARCAIM JETTY   \n",
              "\n",
              "         STATE  Temp D.O. (mg/l)   PH CONDUCTIVITY (µmhos/cm) B.O.D. (mg/l)  \\\n",
              "0  DAMAN & DIU  30.6         6.7  7.5                     203           NAN   \n",
              "1          GOA  29.8         5.7  7.2                     189             2   \n",
              "2          GOA  29.5         6.3  6.9                     179           1.7   \n",
              "3          GOA  29.7         5.8  6.9                      64           3.8   \n",
              "4          GOA  29.5         5.8  7.3                      83           1.9   \n",
              "\n",
              "  NITRATENAN N+ NITRITENANN (mg/l) FECAL COLIFORM (MPN/100ml)  \\\n",
              "0                              0.1                         11   \n",
              "1                              0.2                       4953   \n",
              "2                              0.1                       3243   \n",
              "3                              0.5                       5382   \n",
              "4                              0.4                       3428   \n",
              "\n",
              "  TOTAL COLIFORM (MPN/100ml)Mean  year  \n",
              "0                             27  2014  \n",
              "1                           8391  2014  \n",
              "2                           5330  2014  \n",
              "3                           8443  2014  \n",
              "4                           5500  2014  "
            ],
            "text/html": [
              "\n",
              "  <div id=\"df-9e02dbbd-f973-48bd-971e-d989a06b1720\">\n",
              "    <div class=\"colab-df-container\">\n",
              "      <div>\n",
              "<style scoped>\n",
              "    .dataframe tbody tr th:only-of-type {\n",
              "        vertical-align: middle;\n",
              "    }\n",
              "\n",
              "    .dataframe tbody tr th {\n",
              "        vertical-align: top;\n",
              "    }\n",
              "\n",
              "    .dataframe thead th {\n",
              "        text-align: right;\n",
              "    }\n",
              "</style>\n",
              "<table border=\"1\" class=\"dataframe\">\n",
              "  <thead>\n",
              "    <tr style=\"text-align: right;\">\n",
              "      <th></th>\n",
              "      <th>STATION CODE</th>\n",
              "      <th>LOCATIONS</th>\n",
              "      <th>STATE</th>\n",
              "      <th>Temp</th>\n",
              "      <th>D.O. (mg/l)</th>\n",
              "      <th>PH</th>\n",
              "      <th>CONDUCTIVITY (µmhos/cm)</th>\n",
              "      <th>B.O.D. (mg/l)</th>\n",
              "      <th>NITRATENAN N+ NITRITENANN (mg/l)</th>\n",
              "      <th>FECAL COLIFORM (MPN/100ml)</th>\n",
              "      <th>TOTAL COLIFORM (MPN/100ml)Mean</th>\n",
              "      <th>year</th>\n",
              "    </tr>\n",
              "  </thead>\n",
              "  <tbody>\n",
              "    <tr>\n",
              "      <th>0</th>\n",
              "      <td>1393</td>\n",
              "      <td>DAMANGANGA AT D/S OF MADHUBAN, DAMAN</td>\n",
              "      <td>DAMAN &amp; DIU</td>\n",
              "      <td>30.6</td>\n",
              "      <td>6.7</td>\n",
              "      <td>7.5</td>\n",
              "      <td>203</td>\n",
              "      <td>NAN</td>\n",
              "      <td>0.1</td>\n",
              "      <td>11</td>\n",
              "      <td>27</td>\n",
              "      <td>2014</td>\n",
              "    </tr>\n",
              "    <tr>\n",
              "      <th>1</th>\n",
              "      <td>1399</td>\n",
              "      <td>ZUARI AT D/S OF PT. WHERE KUMBARJRIA CANAL JOI...</td>\n",
              "      <td>GOA</td>\n",
              "      <td>29.8</td>\n",
              "      <td>5.7</td>\n",
              "      <td>7.2</td>\n",
              "      <td>189</td>\n",
              "      <td>2</td>\n",
              "      <td>0.2</td>\n",
              "      <td>4953</td>\n",
              "      <td>8391</td>\n",
              "      <td>2014</td>\n",
              "    </tr>\n",
              "    <tr>\n",
              "      <th>2</th>\n",
              "      <td>1475</td>\n",
              "      <td>ZUARI AT PANCHAWADI</td>\n",
              "      <td>GOA</td>\n",
              "      <td>29.5</td>\n",
              "      <td>6.3</td>\n",
              "      <td>6.9</td>\n",
              "      <td>179</td>\n",
              "      <td>1.7</td>\n",
              "      <td>0.1</td>\n",
              "      <td>3243</td>\n",
              "      <td>5330</td>\n",
              "      <td>2014</td>\n",
              "    </tr>\n",
              "    <tr>\n",
              "      <th>3</th>\n",
              "      <td>3181</td>\n",
              "      <td>RIVER ZUARI AT BORIM BRIDGE</td>\n",
              "      <td>GOA</td>\n",
              "      <td>29.7</td>\n",
              "      <td>5.8</td>\n",
              "      <td>6.9</td>\n",
              "      <td>64</td>\n",
              "      <td>3.8</td>\n",
              "      <td>0.5</td>\n",
              "      <td>5382</td>\n",
              "      <td>8443</td>\n",
              "      <td>2014</td>\n",
              "    </tr>\n",
              "    <tr>\n",
              "      <th>4</th>\n",
              "      <td>3182</td>\n",
              "      <td>RIVER ZUARI AT MARCAIM JETTY</td>\n",
              "      <td>GOA</td>\n",
              "      <td>29.5</td>\n",
              "      <td>5.8</td>\n",
              "      <td>7.3</td>\n",
              "      <td>83</td>\n",
              "      <td>1.9</td>\n",
              "      <td>0.4</td>\n",
              "      <td>3428</td>\n",
              "      <td>5500</td>\n",
              "      <td>2014</td>\n",
              "    </tr>\n",
              "  </tbody>\n",
              "</table>\n",
              "</div>\n",
              "      <button class=\"colab-df-convert\" onclick=\"convertToInteractive('df-9e02dbbd-f973-48bd-971e-d989a06b1720')\"\n",
              "              title=\"Convert this dataframe to an interactive table.\"\n",
              "              style=\"display:none;\">\n",
              "        \n",
              "  <svg xmlns=\"http://www.w3.org/2000/svg\" height=\"24px\"viewBox=\"0 0 24 24\"\n",
              "       width=\"24px\">\n",
              "    <path d=\"M0 0h24v24H0V0z\" fill=\"none\"/>\n",
              "    <path d=\"M18.56 5.44l.94 2.06.94-2.06 2.06-.94-2.06-.94-.94-2.06-.94 2.06-2.06.94zm-11 1L8.5 8.5l.94-2.06 2.06-.94-2.06-.94L8.5 2.5l-.94 2.06-2.06.94zm10 10l.94 2.06.94-2.06 2.06-.94-2.06-.94-.94-2.06-.94 2.06-2.06.94z\"/><path d=\"M17.41 7.96l-1.37-1.37c-.4-.4-.92-.59-1.43-.59-.52 0-1.04.2-1.43.59L10.3 9.45l-7.72 7.72c-.78.78-.78 2.05 0 2.83L4 21.41c.39.39.9.59 1.41.59.51 0 1.02-.2 1.41-.59l7.78-7.78 2.81-2.81c.8-.78.8-2.07 0-2.86zM5.41 20L4 18.59l7.72-7.72 1.47 1.35L5.41 20z\"/>\n",
              "  </svg>\n",
              "      </button>\n",
              "      \n",
              "  <style>\n",
              "    .colab-df-container {\n",
              "      display:flex;\n",
              "      flex-wrap:wrap;\n",
              "      gap: 12px;\n",
              "    }\n",
              "\n",
              "    .colab-df-convert {\n",
              "      background-color: #E8F0FE;\n",
              "      border: none;\n",
              "      border-radius: 50%;\n",
              "      cursor: pointer;\n",
              "      display: none;\n",
              "      fill: #1967D2;\n",
              "      height: 32px;\n",
              "      padding: 0 0 0 0;\n",
              "      width: 32px;\n",
              "    }\n",
              "\n",
              "    .colab-df-convert:hover {\n",
              "      background-color: #E2EBFA;\n",
              "      box-shadow: 0px 1px 2px rgba(60, 64, 67, 0.3), 0px 1px 3px 1px rgba(60, 64, 67, 0.15);\n",
              "      fill: #174EA6;\n",
              "    }\n",
              "\n",
              "    [theme=dark] .colab-df-convert {\n",
              "      background-color: #3B4455;\n",
              "      fill: #D2E3FC;\n",
              "    }\n",
              "\n",
              "    [theme=dark] .colab-df-convert:hover {\n",
              "      background-color: #434B5C;\n",
              "      box-shadow: 0px 1px 3px 1px rgba(0, 0, 0, 0.15);\n",
              "      filter: drop-shadow(0px 1px 2px rgba(0, 0, 0, 0.3));\n",
              "      fill: #FFFFFF;\n",
              "    }\n",
              "  </style>\n",
              "\n",
              "      <script>\n",
              "        const buttonEl =\n",
              "          document.querySelector('#df-9e02dbbd-f973-48bd-971e-d989a06b1720 button.colab-df-convert');\n",
              "        buttonEl.style.display =\n",
              "          google.colab.kernel.accessAllowed ? 'block' : 'none';\n",
              "\n",
              "        async function convertToInteractive(key) {\n",
              "          const element = document.querySelector('#df-9e02dbbd-f973-48bd-971e-d989a06b1720');\n",
              "          const dataTable =\n",
              "            await google.colab.kernel.invokeFunction('convertToInteractive',\n",
              "                                                     [key], {});\n",
              "          if (!dataTable) return;\n",
              "\n",
              "          const docLinkHtml = 'Like what you see? Visit the ' +\n",
              "            '<a target=\"_blank\" href=https://colab.research.google.com/notebooks/data_table.ipynb>data table notebook</a>'\n",
              "            + ' to learn more about interactive tables.';\n",
              "          element.innerHTML = '';\n",
              "          dataTable['output_type'] = 'display_data';\n",
              "          await google.colab.output.renderOutput(dataTable, element);\n",
              "          const docLink = document.createElement('div');\n",
              "          docLink.innerHTML = docLinkHtml;\n",
              "          element.appendChild(docLink);\n",
              "        }\n",
              "      </script>\n",
              "    </div>\n",
              "  </div>\n",
              "  "
            ]
          },
          "metadata": {},
          "execution_count": 4
        }
      ]
    },
    {
      "cell_type": "code",
      "source": [
        "data.describe()"
      ],
      "metadata": {
        "colab": {
          "base_uri": "https://localhost:8080/",
          "height": 300
        },
        "id": "_Yyv29834qZQ",
        "outputId": "c93c8e3c-59cf-4324-8855-bca25b25b2c0"
      },
      "execution_count": null,
      "outputs": [
        {
          "output_type": "execute_result",
          "data": {
            "text/plain": [
              "              year\n",
              "count  1991.000000\n",
              "mean   2010.038172\n",
              "std       3.057333\n",
              "min    2003.000000\n",
              "25%    2008.000000\n",
              "50%    2011.000000\n",
              "75%    2013.000000\n",
              "max    2014.000000"
            ],
            "text/html": [
              "\n",
              "  <div id=\"df-24bf761c-f10f-46c9-90a2-055355c87f56\">\n",
              "    <div class=\"colab-df-container\">\n",
              "      <div>\n",
              "<style scoped>\n",
              "    .dataframe tbody tr th:only-of-type {\n",
              "        vertical-align: middle;\n",
              "    }\n",
              "\n",
              "    .dataframe tbody tr th {\n",
              "        vertical-align: top;\n",
              "    }\n",
              "\n",
              "    .dataframe thead th {\n",
              "        text-align: right;\n",
              "    }\n",
              "</style>\n",
              "<table border=\"1\" class=\"dataframe\">\n",
              "  <thead>\n",
              "    <tr style=\"text-align: right;\">\n",
              "      <th></th>\n",
              "      <th>year</th>\n",
              "    </tr>\n",
              "  </thead>\n",
              "  <tbody>\n",
              "    <tr>\n",
              "      <th>count</th>\n",
              "      <td>1991.000000</td>\n",
              "    </tr>\n",
              "    <tr>\n",
              "      <th>mean</th>\n",
              "      <td>2010.038172</td>\n",
              "    </tr>\n",
              "    <tr>\n",
              "      <th>std</th>\n",
              "      <td>3.057333</td>\n",
              "    </tr>\n",
              "    <tr>\n",
              "      <th>min</th>\n",
              "      <td>2003.000000</td>\n",
              "    </tr>\n",
              "    <tr>\n",
              "      <th>25%</th>\n",
              "      <td>2008.000000</td>\n",
              "    </tr>\n",
              "    <tr>\n",
              "      <th>50%</th>\n",
              "      <td>2011.000000</td>\n",
              "    </tr>\n",
              "    <tr>\n",
              "      <th>75%</th>\n",
              "      <td>2013.000000</td>\n",
              "    </tr>\n",
              "    <tr>\n",
              "      <th>max</th>\n",
              "      <td>2014.000000</td>\n",
              "    </tr>\n",
              "  </tbody>\n",
              "</table>\n",
              "</div>\n",
              "      <button class=\"colab-df-convert\" onclick=\"convertToInteractive('df-24bf761c-f10f-46c9-90a2-055355c87f56')\"\n",
              "              title=\"Convert this dataframe to an interactive table.\"\n",
              "              style=\"display:none;\">\n",
              "        \n",
              "  <svg xmlns=\"http://www.w3.org/2000/svg\" height=\"24px\"viewBox=\"0 0 24 24\"\n",
              "       width=\"24px\">\n",
              "    <path d=\"M0 0h24v24H0V0z\" fill=\"none\"/>\n",
              "    <path d=\"M18.56 5.44l.94 2.06.94-2.06 2.06-.94-2.06-.94-.94-2.06-.94 2.06-2.06.94zm-11 1L8.5 8.5l.94-2.06 2.06-.94-2.06-.94L8.5 2.5l-.94 2.06-2.06.94zm10 10l.94 2.06.94-2.06 2.06-.94-2.06-.94-.94-2.06-.94 2.06-2.06.94z\"/><path d=\"M17.41 7.96l-1.37-1.37c-.4-.4-.92-.59-1.43-.59-.52 0-1.04.2-1.43.59L10.3 9.45l-7.72 7.72c-.78.78-.78 2.05 0 2.83L4 21.41c.39.39.9.59 1.41.59.51 0 1.02-.2 1.41-.59l7.78-7.78 2.81-2.81c.8-.78.8-2.07 0-2.86zM5.41 20L4 18.59l7.72-7.72 1.47 1.35L5.41 20z\"/>\n",
              "  </svg>\n",
              "      </button>\n",
              "      \n",
              "  <style>\n",
              "    .colab-df-container {\n",
              "      display:flex;\n",
              "      flex-wrap:wrap;\n",
              "      gap: 12px;\n",
              "    }\n",
              "\n",
              "    .colab-df-convert {\n",
              "      background-color: #E8F0FE;\n",
              "      border: none;\n",
              "      border-radius: 50%;\n",
              "      cursor: pointer;\n",
              "      display: none;\n",
              "      fill: #1967D2;\n",
              "      height: 32px;\n",
              "      padding: 0 0 0 0;\n",
              "      width: 32px;\n",
              "    }\n",
              "\n",
              "    .colab-df-convert:hover {\n",
              "      background-color: #E2EBFA;\n",
              "      box-shadow: 0px 1px 2px rgba(60, 64, 67, 0.3), 0px 1px 3px 1px rgba(60, 64, 67, 0.15);\n",
              "      fill: #174EA6;\n",
              "    }\n",
              "\n",
              "    [theme=dark] .colab-df-convert {\n",
              "      background-color: #3B4455;\n",
              "      fill: #D2E3FC;\n",
              "    }\n",
              "\n",
              "    [theme=dark] .colab-df-convert:hover {\n",
              "      background-color: #434B5C;\n",
              "      box-shadow: 0px 1px 3px 1px rgba(0, 0, 0, 0.15);\n",
              "      filter: drop-shadow(0px 1px 2px rgba(0, 0, 0, 0.3));\n",
              "      fill: #FFFFFF;\n",
              "    }\n",
              "  </style>\n",
              "\n",
              "      <script>\n",
              "        const buttonEl =\n",
              "          document.querySelector('#df-24bf761c-f10f-46c9-90a2-055355c87f56 button.colab-df-convert');\n",
              "        buttonEl.style.display =\n",
              "          google.colab.kernel.accessAllowed ? 'block' : 'none';\n",
              "\n",
              "        async function convertToInteractive(key) {\n",
              "          const element = document.querySelector('#df-24bf761c-f10f-46c9-90a2-055355c87f56');\n",
              "          const dataTable =\n",
              "            await google.colab.kernel.invokeFunction('convertToInteractive',\n",
              "                                                     [key], {});\n",
              "          if (!dataTable) return;\n",
              "\n",
              "          const docLinkHtml = 'Like what you see? Visit the ' +\n",
              "            '<a target=\"_blank\" href=https://colab.research.google.com/notebooks/data_table.ipynb>data table notebook</a>'\n",
              "            + ' to learn more about interactive tables.';\n",
              "          element.innerHTML = '';\n",
              "          dataTable['output_type'] = 'display_data';\n",
              "          await google.colab.output.renderOutput(dataTable, element);\n",
              "          const docLink = document.createElement('div');\n",
              "          docLink.innerHTML = docLinkHtml;\n",
              "          element.appendChild(docLink);\n",
              "        }\n",
              "      </script>\n",
              "    </div>\n",
              "  </div>\n",
              "  "
            ]
          },
          "metadata": {},
          "execution_count": 5
        }
      ]
    },
    {
      "cell_type": "code",
      "source": [
        "data.info()"
      ],
      "metadata": {
        "colab": {
          "base_uri": "https://localhost:8080/"
        },
        "id": "99cMeX0T4qcB",
        "outputId": "bcd7840f-c038-47b8-8965-55a7101df37e"
      },
      "execution_count": null,
      "outputs": [
        {
          "output_type": "stream",
          "name": "stdout",
          "text": [
            "<class 'pandas.core.frame.DataFrame'>\n",
            "RangeIndex: 1991 entries, 0 to 1990\n",
            "Data columns (total 12 columns):\n",
            " #   Column                            Non-Null Count  Dtype \n",
            "---  ------                            --------------  ----- \n",
            " 0   STATION CODE                      1991 non-null   object\n",
            " 1   LOCATIONS                         1991 non-null   object\n",
            " 2   STATE                             1991 non-null   object\n",
            " 3   Temp                              1991 non-null   object\n",
            " 4   D.O. (mg/l)                       1991 non-null   object\n",
            " 5   PH                                1991 non-null   object\n",
            " 6   CONDUCTIVITY (µmhos/cm)           1991 non-null   object\n",
            " 7   B.O.D. (mg/l)                     1991 non-null   object\n",
            " 8   NITRATENAN N+ NITRITENANN (mg/l)  1991 non-null   object\n",
            " 9   FECAL COLIFORM (MPN/100ml)        1991 non-null   object\n",
            " 10  TOTAL COLIFORM (MPN/100ml)Mean    1991 non-null   object\n",
            " 11  year                              1991 non-null   int64 \n",
            "dtypes: int64(1), object(11)\n",
            "memory usage: 186.8+ KB\n"
          ]
        }
      ]
    },
    {
      "cell_type": "code",
      "source": [
        "data['Temp'] = pd.to_numeric(data['Temp'], errors ='coerce')\n",
        "data ['D.O. (mg/l)'] =pd.to_numeric(data['D.O. (mg/l)'],errors ='coerce')\n",
        "data ['PH'] =pd.to_numeric(data['PH'],errors ='coerce')\n",
        "data ['B.O.D. (mg/l)'] =pd.to_numeric(data['B.O.D. (mg/l)'],errors ='coerce')\n",
        "data ['CONDUCTIVITY (µmhos/cm)'] =pd.to_numeric(data['CONDUCTIVITY (µmhos/cm)'],errors ='coerce')\n",
        "data ['NITRATENAN N+ NITRITENANN (mg/l)'] =pd.to_numeric(data['NITRATENAN N+ NITRITENANN (mg/l)'],errors ='coerce')\n",
        "data ['TOTAL COLIFORM (MPN/100ml)Mean'] =pd.to_numeric(data['TOTAL COLIFORM (MPN/100ml)Mean'],errors ='coerce')\n",
        "print(data.dtypes)"
      ],
      "metadata": {
        "colab": {
          "base_uri": "https://localhost:8080/"
        },
        "id": "Epl4Jpdd4qeW",
        "outputId": "d098dfdc-a9f3-426d-f002-fe2e65b1afb0"
      },
      "execution_count": null,
      "outputs": [
        {
          "output_type": "stream",
          "name": "stdout",
          "text": [
            "STATION CODE                         object\n",
            "LOCATIONS                            object\n",
            "STATE                                object\n",
            "Temp                                float64\n",
            "D.O. (mg/l)                         float64\n",
            "PH                                  float64\n",
            "CONDUCTIVITY (µmhos/cm)             float64\n",
            "B.O.D. (mg/l)                       float64\n",
            "NITRATENAN N+ NITRITENANN (mg/l)    float64\n",
            "FECAL COLIFORM (MPN/100ml)           object\n",
            "TOTAL COLIFORM (MPN/100ml)Mean      float64\n",
            "year                                  int64\n",
            "dtype: object\n"
          ]
        }
      ]
    },
    {
      "cell_type": "code",
      "source": [
        "data.isnull().sum()"
      ],
      "metadata": {
        "colab": {
          "base_uri": "https://localhost:8080/"
        },
        "id": "3NSDd2gg4qg7",
        "outputId": "c2bbed86-29bb-436d-8bd5-92461c277c30"
      },
      "execution_count": null,
      "outputs": [
        {
          "output_type": "execute_result",
          "data": {
            "text/plain": [
              "STATION CODE                          0\n",
              "LOCATIONS                             0\n",
              "STATE                                 0\n",
              "Temp                                 92\n",
              "D.O. (mg/l)                          31\n",
              "PH                                    8\n",
              "CONDUCTIVITY (µmhos/cm)              25\n",
              "B.O.D. (mg/l)                        43\n",
              "NITRATENAN N+ NITRITENANN (mg/l)    225\n",
              "FECAL COLIFORM (MPN/100ml)            0\n",
              "TOTAL COLIFORM (MPN/100ml)Mean      132\n",
              "year                                  0\n",
              "dtype: int64"
            ]
          },
          "metadata": {},
          "execution_count": 9
        }
      ]
    },
    {
      "cell_type": "code",
      "source": [
        "data['Temp'].fillna(data['Temp'].mean(),inplace =True)\n",
        "data['D.O. (mg/l)'].fillna(data['D.O. (mg/l)'].mean(),inplace =True)\n",
        "data['PH'].fillna(data['PH'].mean(),inplace =True)\n",
        "data['CONDUCTIVITY (µmhos/cm)'].fillna(data['CONDUCTIVITY (µmhos/cm)'].mean(),inplace =True)\n",
        "data['B.O.D. (mg/l)'].fillna(data['B.O.D. (mg/l)'].mean(),inplace =True)\n",
        "data['NITRATENAN N+ NITRITENANN (mg/l)'].fillna(data['NITRATENAN N+ NITRITENANN (mg/l)'].mean(),inplace =True)\n",
        "data['TOTAL COLIFORM (MPN/100ml)Mean'].fillna(data['TOTAL COLIFORM (MPN/100ml)Mean'].mean(),inplace =True)"
      ],
      "metadata": {
        "id": "OK-meacM4qjW"
      },
      "execution_count": null,
      "outputs": []
    },
    {
      "cell_type": "code",
      "source": [
        "data.drop([\"FECAL COLIFORM (MPN/100ml)\"], axis =1, inplace= True)"
      ],
      "metadata": {
        "id": "vuaITOkp4qlj"
      },
      "execution_count": null,
      "outputs": []
    },
    {
      "cell_type": "code",
      "source": [
        "data = data.rename (columns = {'D.O. (mg/l)':'do'})\n",
        "data = data.rename (columns = {'CONDUCTIVITY (µmhos/cm)':'co'})\n",
        "data = data.rename (columns = {'B.O.D. (mg/l)':'bod'})\n",
        "data = data.rename (columns = {'NITRATENAN N+ NITRITENANN (mg/l)':'na'})\n",
        "data = data.rename (columns = {'TOTAL COLIFORM (MPN/100ml)Mean':'tc'})\n",
        "data = data.rename (columns = {'STATION CODE':'station'})\n",
        "data = data.rename (columns = {'LOCATIONS':'location'})\n",
        "data = data.rename (columns = {'STATE':'state'})\n",
        "data = data.rename (columns = {'PH':'ph'})"
      ],
      "metadata": {
        "id": "2VAyMAMF4qpB"
      },
      "execution_count": null,
      "outputs": []
    },
    {
      "cell_type": "code",
      "source": [
        "data.drop([\"station\"], axis =1, inplace= True)"
      ],
      "metadata": {
        "id": "LzJqG4965CaW"
      },
      "execution_count": null,
      "outputs": []
    },
    {
      "cell_type": "code",
      "source": [
        "data.drop([\"location\"], axis =1, inplace= True)\n",
        "data.drop([\"state\"], axis =1, inplace= True)"
      ],
      "metadata": {
        "id": "EFCfMz4f5Cde"
      },
      "execution_count": null,
      "outputs": []
    },
    {
      "cell_type": "code",
      "source": [
        "data['npH']= data.ph.apply(lambda x:(100 if ( 8.5 >= x >= 7)\n",
        "                                    else (80 if (8.6 >=x>= 8.5) or (6.9>=x>=6.8)\n",
        "                                         else (60 if (8.8>= x >=8.6) or (6.8 >= x>=6.7)\n",
        "                                              else (40 if (9>=x>=8.8) or (6.7 >=x>=6.4)\n",
        "                                                   else 0)))))"
      ],
      "metadata": {
        "id": "mCysi-P85Cgh"
      },
      "execution_count": null,
      "outputs": []
    },
    {
      "cell_type": "code",
      "source": [
        "data['ndo']= data.do.apply(lambda x:(100 if (x>=6)\n",
        "                                   else (80 if (6>=x>=5.1)\n",
        "                                        else (60 if (5>=x>=4.1)\n",
        "                                             else(40 if (4>=x>=3)\n",
        "                                                 else 0)))))"
      ],
      "metadata": {
        "id": "dLmp26rF5CkC"
      },
      "execution_count": null,
      "outputs": []
    },
    {
      "cell_type": "code",
      "source": [
        "data['nco']= data.co.apply(lambda x:(100 if (5>=x>=0)\n",
        "                                   else (80 if (50>=x>=5)\n",
        "                                        else (60 if (500>=x>=50)\n",
        "                                             else(40 if (10000>=x>=500)\n",
        "                                                 else 0)))))"
      ],
      "metadata": {
        "id": "jy5-0P0Q5Qrm"
      },
      "execution_count": null,
      "outputs": []
    },
    {
      "cell_type": "code",
      "source": [
        "data['nbdo']= data.bod.apply(lambda x:(100 if (3>=x>=0)\n",
        "                                   else (80 if (6>=x>=3)\n",
        "                                        else (60 if (80>=x>=6)\n",
        "                                             else(40 if (125>=x>=80)\n",
        "                                                 else 0)))))"
      ],
      "metadata": {
        "id": "y8l5st8m5RJs"
      },
      "execution_count": null,
      "outputs": []
    },
    {
      "cell_type": "code",
      "source": [
        "data['nec']= data.co.apply(lambda x:(100 if (75>=x>=0)\n",
        "                                   else (80 if (150>=x>=75)\n",
        "                                        else (60 if (225>=x>=150)\n",
        "                                             else(40 if (300>=x>=225)\n",
        "                                                 else 0)))))\n"
      ],
      "metadata": {
        "id": "rgbVFQZb5RL_"
      },
      "execution_count": null,
      "outputs": []
    },
    {
      "cell_type": "code",
      "source": [
        "data['nna']= data.na.apply(lambda x:(100 if (20>=x>=0)\n",
        "                                   else (80 if (50>=x>=20)\n",
        "                                        else (60 if (100>=x>=50)\n",
        "                                             else(40 if (200>=x>=100)\n",
        "                                                 else 0)))))\n"
      ],
      "metadata": {
        "id": "3qwFDJas5RPi"
      },
      "execution_count": null,
      "outputs": []
    },
    {
      "cell_type": "code",
      "source": [
        "data['wph']= data.npH * 0.165\n",
        "data['wdo']= data.ndo * 0.281\n",
        "data['wbdo']= data.nbdo * 0.234\n",
        "data['wec']= data.nec * 0.009\n",
        "data['wna']= data.nna * 0.028\n",
        "data['wco']= data.nco * 0.281\n",
        "data['wqi']= data.wph+data.wdo+data.wbdo+data.wec+data.wna+data.wco\n",
        "data"
      ],
      "metadata": {
        "colab": {
          "base_uri": "https://localhost:8080/",
          "height": 488
        },
        "id": "3UCF1Qdh5cPE",
        "outputId": "e9ac1087-9ff9-4274-f85c-b8d1723ecdb3"
      },
      "execution_count": null,
      "outputs": [
        {
          "output_type": "execute_result",
          "data": {
            "text/plain": [
              "           Temp   do     ph     co       bod        na      tc  year  npH  \\\n",
              "0     30.600000  6.7    7.5  203.0  6.940049  0.100000    27.0  2014  100   \n",
              "1     29.800000  5.7    7.2  189.0  2.000000  0.200000  8391.0  2014  100   \n",
              "2     29.500000  6.3    6.9  179.0  1.700000  0.100000  5330.0  2014   80   \n",
              "3     29.700000  5.8    6.9   64.0  3.800000  0.500000  8443.0  2014   80   \n",
              "4     29.500000  5.8    7.3   83.0  1.900000  0.400000  5500.0  2014  100   \n",
              "...         ...  ...    ...    ...       ...       ...     ...   ...  ...   \n",
              "1986  26.209814  7.9  738.0    7.2  2.700000  0.518000   202.0  2003    0   \n",
              "1987  29.000000  7.5  585.0    6.3  2.600000  0.155000   315.0  2003    0   \n",
              "1988  28.000000  7.6   98.0    6.2  1.200000  1.623079   570.0  2003    0   \n",
              "1989  28.000000  7.7   91.0    6.5  1.300000  1.623079   562.0  2003    0   \n",
              "1990  29.000000  7.6  110.0    5.7  1.100000  1.623079   546.0  2003    0   \n",
              "\n",
              "      ndo  ...  nbdo  nec  nna   wph    wdo   wbdo   wec  wna    wco    wqi  \n",
              "0     100  ...    60   60  100  16.5  28.10  14.04  0.54  2.8  16.86  78.84  \n",
              "1      80  ...   100   60  100  16.5  22.48  23.40  0.54  2.8  16.86  82.58  \n",
              "2     100  ...   100   60  100  13.2  28.10  23.40  0.54  2.8  16.86  84.90  \n",
              "3      80  ...    80  100  100  13.2  22.48  18.72  0.90  2.8  16.86  74.96  \n",
              "4      80  ...   100   80  100  16.5  22.48  23.40  0.72  2.8  16.86  82.76  \n",
              "...   ...  ...   ...  ...  ...   ...    ...    ...   ...  ...    ...    ...  \n",
              "1986  100  ...   100  100  100   0.0  28.10  23.40  0.90  2.8  22.48  77.68  \n",
              "1987  100  ...   100  100  100   0.0  28.10  23.40  0.90  2.8  22.48  77.68  \n",
              "1988  100  ...   100  100  100   0.0  28.10  23.40  0.90  2.8  22.48  77.68  \n",
              "1989  100  ...   100  100  100   0.0  28.10  23.40  0.90  2.8  22.48  77.68  \n",
              "1990  100  ...   100  100  100   0.0  28.10  23.40  0.90  2.8  22.48  77.68  \n",
              "\n",
              "[1991 rows x 21 columns]"
            ],
            "text/html": [
              "\n",
              "  <div id=\"df-181c9f14-2850-4eac-af48-aa0e9d99061f\">\n",
              "    <div class=\"colab-df-container\">\n",
              "      <div>\n",
              "<style scoped>\n",
              "    .dataframe tbody tr th:only-of-type {\n",
              "        vertical-align: middle;\n",
              "    }\n",
              "\n",
              "    .dataframe tbody tr th {\n",
              "        vertical-align: top;\n",
              "    }\n",
              "\n",
              "    .dataframe thead th {\n",
              "        text-align: right;\n",
              "    }\n",
              "</style>\n",
              "<table border=\"1\" class=\"dataframe\">\n",
              "  <thead>\n",
              "    <tr style=\"text-align: right;\">\n",
              "      <th></th>\n",
              "      <th>Temp</th>\n",
              "      <th>do</th>\n",
              "      <th>ph</th>\n",
              "      <th>co</th>\n",
              "      <th>bod</th>\n",
              "      <th>na</th>\n",
              "      <th>tc</th>\n",
              "      <th>year</th>\n",
              "      <th>npH</th>\n",
              "      <th>ndo</th>\n",
              "      <th>...</th>\n",
              "      <th>nbdo</th>\n",
              "      <th>nec</th>\n",
              "      <th>nna</th>\n",
              "      <th>wph</th>\n",
              "      <th>wdo</th>\n",
              "      <th>wbdo</th>\n",
              "      <th>wec</th>\n",
              "      <th>wna</th>\n",
              "      <th>wco</th>\n",
              "      <th>wqi</th>\n",
              "    </tr>\n",
              "  </thead>\n",
              "  <tbody>\n",
              "    <tr>\n",
              "      <th>0</th>\n",
              "      <td>30.600000</td>\n",
              "      <td>6.7</td>\n",
              "      <td>7.5</td>\n",
              "      <td>203.0</td>\n",
              "      <td>6.940049</td>\n",
              "      <td>0.100000</td>\n",
              "      <td>27.0</td>\n",
              "      <td>2014</td>\n",
              "      <td>100</td>\n",
              "      <td>100</td>\n",
              "      <td>...</td>\n",
              "      <td>60</td>\n",
              "      <td>60</td>\n",
              "      <td>100</td>\n",
              "      <td>16.5</td>\n",
              "      <td>28.10</td>\n",
              "      <td>14.04</td>\n",
              "      <td>0.54</td>\n",
              "      <td>2.8</td>\n",
              "      <td>16.86</td>\n",
              "      <td>78.84</td>\n",
              "    </tr>\n",
              "    <tr>\n",
              "      <th>1</th>\n",
              "      <td>29.800000</td>\n",
              "      <td>5.7</td>\n",
              "      <td>7.2</td>\n",
              "      <td>189.0</td>\n",
              "      <td>2.000000</td>\n",
              "      <td>0.200000</td>\n",
              "      <td>8391.0</td>\n",
              "      <td>2014</td>\n",
              "      <td>100</td>\n",
              "      <td>80</td>\n",
              "      <td>...</td>\n",
              "      <td>100</td>\n",
              "      <td>60</td>\n",
              "      <td>100</td>\n",
              "      <td>16.5</td>\n",
              "      <td>22.48</td>\n",
              "      <td>23.40</td>\n",
              "      <td>0.54</td>\n",
              "      <td>2.8</td>\n",
              "      <td>16.86</td>\n",
              "      <td>82.58</td>\n",
              "    </tr>\n",
              "    <tr>\n",
              "      <th>2</th>\n",
              "      <td>29.500000</td>\n",
              "      <td>6.3</td>\n",
              "      <td>6.9</td>\n",
              "      <td>179.0</td>\n",
              "      <td>1.700000</td>\n",
              "      <td>0.100000</td>\n",
              "      <td>5330.0</td>\n",
              "      <td>2014</td>\n",
              "      <td>80</td>\n",
              "      <td>100</td>\n",
              "      <td>...</td>\n",
              "      <td>100</td>\n",
              "      <td>60</td>\n",
              "      <td>100</td>\n",
              "      <td>13.2</td>\n",
              "      <td>28.10</td>\n",
              "      <td>23.40</td>\n",
              "      <td>0.54</td>\n",
              "      <td>2.8</td>\n",
              "      <td>16.86</td>\n",
              "      <td>84.90</td>\n",
              "    </tr>\n",
              "    <tr>\n",
              "      <th>3</th>\n",
              "      <td>29.700000</td>\n",
              "      <td>5.8</td>\n",
              "      <td>6.9</td>\n",
              "      <td>64.0</td>\n",
              "      <td>3.800000</td>\n",
              "      <td>0.500000</td>\n",
              "      <td>8443.0</td>\n",
              "      <td>2014</td>\n",
              "      <td>80</td>\n",
              "      <td>80</td>\n",
              "      <td>...</td>\n",
              "      <td>80</td>\n",
              "      <td>100</td>\n",
              "      <td>100</td>\n",
              "      <td>13.2</td>\n",
              "      <td>22.48</td>\n",
              "      <td>18.72</td>\n",
              "      <td>0.90</td>\n",
              "      <td>2.8</td>\n",
              "      <td>16.86</td>\n",
              "      <td>74.96</td>\n",
              "    </tr>\n",
              "    <tr>\n",
              "      <th>4</th>\n",
              "      <td>29.500000</td>\n",
              "      <td>5.8</td>\n",
              "      <td>7.3</td>\n",
              "      <td>83.0</td>\n",
              "      <td>1.900000</td>\n",
              "      <td>0.400000</td>\n",
              "      <td>5500.0</td>\n",
              "      <td>2014</td>\n",
              "      <td>100</td>\n",
              "      <td>80</td>\n",
              "      <td>...</td>\n",
              "      <td>100</td>\n",
              "      <td>80</td>\n",
              "      <td>100</td>\n",
              "      <td>16.5</td>\n",
              "      <td>22.48</td>\n",
              "      <td>23.40</td>\n",
              "      <td>0.72</td>\n",
              "      <td>2.8</td>\n",
              "      <td>16.86</td>\n",
              "      <td>82.76</td>\n",
              "    </tr>\n",
              "    <tr>\n",
              "      <th>...</th>\n",
              "      <td>...</td>\n",
              "      <td>...</td>\n",
              "      <td>...</td>\n",
              "      <td>...</td>\n",
              "      <td>...</td>\n",
              "      <td>...</td>\n",
              "      <td>...</td>\n",
              "      <td>...</td>\n",
              "      <td>...</td>\n",
              "      <td>...</td>\n",
              "      <td>...</td>\n",
              "      <td>...</td>\n",
              "      <td>...</td>\n",
              "      <td>...</td>\n",
              "      <td>...</td>\n",
              "      <td>...</td>\n",
              "      <td>...</td>\n",
              "      <td>...</td>\n",
              "      <td>...</td>\n",
              "      <td>...</td>\n",
              "      <td>...</td>\n",
              "    </tr>\n",
              "    <tr>\n",
              "      <th>1986</th>\n",
              "      <td>26.209814</td>\n",
              "      <td>7.9</td>\n",
              "      <td>738.0</td>\n",
              "      <td>7.2</td>\n",
              "      <td>2.700000</td>\n",
              "      <td>0.518000</td>\n",
              "      <td>202.0</td>\n",
              "      <td>2003</td>\n",
              "      <td>0</td>\n",
              "      <td>100</td>\n",
              "      <td>...</td>\n",
              "      <td>100</td>\n",
              "      <td>100</td>\n",
              "      <td>100</td>\n",
              "      <td>0.0</td>\n",
              "      <td>28.10</td>\n",
              "      <td>23.40</td>\n",
              "      <td>0.90</td>\n",
              "      <td>2.8</td>\n",
              "      <td>22.48</td>\n",
              "      <td>77.68</td>\n",
              "    </tr>\n",
              "    <tr>\n",
              "      <th>1987</th>\n",
              "      <td>29.000000</td>\n",
              "      <td>7.5</td>\n",
              "      <td>585.0</td>\n",
              "      <td>6.3</td>\n",
              "      <td>2.600000</td>\n",
              "      <td>0.155000</td>\n",
              "      <td>315.0</td>\n",
              "      <td>2003</td>\n",
              "      <td>0</td>\n",
              "      <td>100</td>\n",
              "      <td>...</td>\n",
              "      <td>100</td>\n",
              "      <td>100</td>\n",
              "      <td>100</td>\n",
              "      <td>0.0</td>\n",
              "      <td>28.10</td>\n",
              "      <td>23.40</td>\n",
              "      <td>0.90</td>\n",
              "      <td>2.8</td>\n",
              "      <td>22.48</td>\n",
              "      <td>77.68</td>\n",
              "    </tr>\n",
              "    <tr>\n",
              "      <th>1988</th>\n",
              "      <td>28.000000</td>\n",
              "      <td>7.6</td>\n",
              "      <td>98.0</td>\n",
              "      <td>6.2</td>\n",
              "      <td>1.200000</td>\n",
              "      <td>1.623079</td>\n",
              "      <td>570.0</td>\n",
              "      <td>2003</td>\n",
              "      <td>0</td>\n",
              "      <td>100</td>\n",
              "      <td>...</td>\n",
              "      <td>100</td>\n",
              "      <td>100</td>\n",
              "      <td>100</td>\n",
              "      <td>0.0</td>\n",
              "      <td>28.10</td>\n",
              "      <td>23.40</td>\n",
              "      <td>0.90</td>\n",
              "      <td>2.8</td>\n",
              "      <td>22.48</td>\n",
              "      <td>77.68</td>\n",
              "    </tr>\n",
              "    <tr>\n",
              "      <th>1989</th>\n",
              "      <td>28.000000</td>\n",
              "      <td>7.7</td>\n",
              "      <td>91.0</td>\n",
              "      <td>6.5</td>\n",
              "      <td>1.300000</td>\n",
              "      <td>1.623079</td>\n",
              "      <td>562.0</td>\n",
              "      <td>2003</td>\n",
              "      <td>0</td>\n",
              "      <td>100</td>\n",
              "      <td>...</td>\n",
              "      <td>100</td>\n",
              "      <td>100</td>\n",
              "      <td>100</td>\n",
              "      <td>0.0</td>\n",
              "      <td>28.10</td>\n",
              "      <td>23.40</td>\n",
              "      <td>0.90</td>\n",
              "      <td>2.8</td>\n",
              "      <td>22.48</td>\n",
              "      <td>77.68</td>\n",
              "    </tr>\n",
              "    <tr>\n",
              "      <th>1990</th>\n",
              "      <td>29.000000</td>\n",
              "      <td>7.6</td>\n",
              "      <td>110.0</td>\n",
              "      <td>5.7</td>\n",
              "      <td>1.100000</td>\n",
              "      <td>1.623079</td>\n",
              "      <td>546.0</td>\n",
              "      <td>2003</td>\n",
              "      <td>0</td>\n",
              "      <td>100</td>\n",
              "      <td>...</td>\n",
              "      <td>100</td>\n",
              "      <td>100</td>\n",
              "      <td>100</td>\n",
              "      <td>0.0</td>\n",
              "      <td>28.10</td>\n",
              "      <td>23.40</td>\n",
              "      <td>0.90</td>\n",
              "      <td>2.8</td>\n",
              "      <td>22.48</td>\n",
              "      <td>77.68</td>\n",
              "    </tr>\n",
              "  </tbody>\n",
              "</table>\n",
              "<p>1991 rows × 21 columns</p>\n",
              "</div>\n",
              "      <button class=\"colab-df-convert\" onclick=\"convertToInteractive('df-181c9f14-2850-4eac-af48-aa0e9d99061f')\"\n",
              "              title=\"Convert this dataframe to an interactive table.\"\n",
              "              style=\"display:none;\">\n",
              "        \n",
              "  <svg xmlns=\"http://www.w3.org/2000/svg\" height=\"24px\"viewBox=\"0 0 24 24\"\n",
              "       width=\"24px\">\n",
              "    <path d=\"M0 0h24v24H0V0z\" fill=\"none\"/>\n",
              "    <path d=\"M18.56 5.44l.94 2.06.94-2.06 2.06-.94-2.06-.94-.94-2.06-.94 2.06-2.06.94zm-11 1L8.5 8.5l.94-2.06 2.06-.94-2.06-.94L8.5 2.5l-.94 2.06-2.06.94zm10 10l.94 2.06.94-2.06 2.06-.94-2.06-.94-.94-2.06-.94 2.06-2.06.94z\"/><path d=\"M17.41 7.96l-1.37-1.37c-.4-.4-.92-.59-1.43-.59-.52 0-1.04.2-1.43.59L10.3 9.45l-7.72 7.72c-.78.78-.78 2.05 0 2.83L4 21.41c.39.39.9.59 1.41.59.51 0 1.02-.2 1.41-.59l7.78-7.78 2.81-2.81c.8-.78.8-2.07 0-2.86zM5.41 20L4 18.59l7.72-7.72 1.47 1.35L5.41 20z\"/>\n",
              "  </svg>\n",
              "      </button>\n",
              "      \n",
              "  <style>\n",
              "    .colab-df-container {\n",
              "      display:flex;\n",
              "      flex-wrap:wrap;\n",
              "      gap: 12px;\n",
              "    }\n",
              "\n",
              "    .colab-df-convert {\n",
              "      background-color: #E8F0FE;\n",
              "      border: none;\n",
              "      border-radius: 50%;\n",
              "      cursor: pointer;\n",
              "      display: none;\n",
              "      fill: #1967D2;\n",
              "      height: 32px;\n",
              "      padding: 0 0 0 0;\n",
              "      width: 32px;\n",
              "    }\n",
              "\n",
              "    .colab-df-convert:hover {\n",
              "      background-color: #E2EBFA;\n",
              "      box-shadow: 0px 1px 2px rgba(60, 64, 67, 0.3), 0px 1px 3px 1px rgba(60, 64, 67, 0.15);\n",
              "      fill: #174EA6;\n",
              "    }\n",
              "\n",
              "    [theme=dark] .colab-df-convert {\n",
              "      background-color: #3B4455;\n",
              "      fill: #D2E3FC;\n",
              "    }\n",
              "\n",
              "    [theme=dark] .colab-df-convert:hover {\n",
              "      background-color: #434B5C;\n",
              "      box-shadow: 0px 1px 3px 1px rgba(0, 0, 0, 0.15);\n",
              "      filter: drop-shadow(0px 1px 2px rgba(0, 0, 0, 0.3));\n",
              "      fill: #FFFFFF;\n",
              "    }\n",
              "  </style>\n",
              "\n",
              "      <script>\n",
              "        const buttonEl =\n",
              "          document.querySelector('#df-181c9f14-2850-4eac-af48-aa0e9d99061f button.colab-df-convert');\n",
              "        buttonEl.style.display =\n",
              "          google.colab.kernel.accessAllowed ? 'block' : 'none';\n",
              "\n",
              "        async function convertToInteractive(key) {\n",
              "          const element = document.querySelector('#df-181c9f14-2850-4eac-af48-aa0e9d99061f');\n",
              "          const dataTable =\n",
              "            await google.colab.kernel.invokeFunction('convertToInteractive',\n",
              "                                                     [key], {});\n",
              "          if (!dataTable) return;\n",
              "\n",
              "          const docLinkHtml = 'Like what you see? Visit the ' +\n",
              "            '<a target=\"_blank\" href=https://colab.research.google.com/notebooks/data_table.ipynb>data table notebook</a>'\n",
              "            + ' to learn more about interactive tables.';\n",
              "          element.innerHTML = '';\n",
              "          dataTable['output_type'] = 'display_data';\n",
              "          await google.colab.output.renderOutput(dataTable, element);\n",
              "          const docLink = document.createElement('div');\n",
              "          docLink.innerHTML = docLinkHtml;\n",
              "          element.appendChild(docLink);\n",
              "        }\n",
              "      </script>\n",
              "    </div>\n",
              "  </div>\n",
              "  "
            ]
          },
          "metadata": {},
          "execution_count": 21
        }
      ]
    },
    {
      "cell_type": "code",
      "source": [
        "average= data.groupby('year')['wqi'].mean()"
      ],
      "metadata": {
        "id": "orGkQnKh5cSi"
      },
      "execution_count": null,
      "outputs": []
    },
    {
      "cell_type": "code",
      "source": [
        "average.head()"
      ],
      "metadata": {
        "colab": {
          "base_uri": "https://localhost:8080/"
        },
        "id": "es-yhwOK5cbt",
        "outputId": "08741461-e6c5-42c5-f57c-701eb36383fb"
      },
      "execution_count": null,
      "outputs": [
        {
          "output_type": "execute_result",
          "data": {
            "text/plain": [
              "year\n",
              "2003    75.946818\n",
              "2004    75.340000\n",
              "2005    76.809916\n",
              "2006    76.023429\n",
              "2007    78.042833\n",
              "Name: wqi, dtype: float64"
            ]
          },
          "metadata": {},
          "execution_count": 23
        }
      ]
    },
    {
      "cell_type": "code",
      "source": [
        "x= data.iloc[:,0:7].values\n",
        "y = data.iloc[:,7:].values"
      ],
      "metadata": {
        "id": "FJgyWhIY5jGd"
      },
      "execution_count": null,
      "outputs": []
    },
    {
      "cell_type": "code",
      "source": [
        "print(x.shape)\n",
        "print(y.shape)"
      ],
      "metadata": {
        "colab": {
          "base_uri": "https://localhost:8080/"
        },
        "id": "O9FK-X7H5jI0",
        "outputId": "fde11caf-6e60-4f54-8453-d88e5c59a05d"
      },
      "execution_count": null,
      "outputs": [
        {
          "output_type": "stream",
          "name": "stdout",
          "text": [
            "(1991, 7)\n",
            "(1991, 14)\n"
          ]
        }
      ]
    },
    {
      "cell_type": "code",
      "source": [
        "from sklearn import linear_model\n",
        "from sklearn.model_selection import train_test_split\n",
        "reg= linear_model.LinearRegression()\n",
        "X_train, X_test, y_train, y_test = train_test_split (x,y, test_size = 0.2, random_state =10)\n",
        "reg.fit(X_train, y_train)"
      ],
      "metadata": {
        "colab": {
          "base_uri": "https://localhost:8080/"
        },
        "id": "vS5HONlQ5jLc",
        "outputId": "d4907016-5c93-4e70-d5c1-2fe712a807f5"
      },
      "execution_count": null,
      "outputs": [
        {
          "output_type": "execute_result",
          "data": {
            "text/plain": [
              "LinearRegression()"
            ]
          },
          "metadata": {},
          "execution_count": 26
        }
      ]
    },
    {
      "cell_type": "code",
      "source": [
        "from sklearn import metrics\n",
        "y_pred = reg.predict(X_test)\n",
        "print ('MAE :', metrics.mean_absolute_error(y_test, y_pred))\n",
        "print ('MSE :', metrics.mean_squared_error(y_test, y_pred))\n",
        "print ('RMSE :', np.sqrt(metrics.mean_squared_error(y_test, y_pred)))"
      ],
      "metadata": {
        "colab": {
          "base_uri": "https://localhost:8080/"
        },
        "id": "UFIRNnhy5jOC",
        "outputId": "7bd596e9-a93b-4cdd-bb5f-801b960f418f"
      },
      "execution_count": null,
      "outputs": [
        {
          "output_type": "stream",
          "name": "stdout",
          "text": [
            "MAE : 7.09259922790901\n",
            "MSE : 204.17843114727452\n",
            "RMSE : 14.289101831370456\n"
          ]
        }
      ]
    },
    {
      "cell_type": "code",
      "source": [
        "metrics.r2_score(y_test, y_pred)"
      ],
      "metadata": {
        "colab": {
          "base_uri": "https://localhost:8080/"
        },
        "id": "dnaB2QZ55jQU",
        "outputId": "ded3005e-bd39-4286-e4cb-df44a981fccc"
      },
      "execution_count": null,
      "outputs": [
        {
          "output_type": "execute_result",
          "data": {
            "text/plain": [
              "0.3133232915444066"
            ]
          },
          "metadata": {},
          "execution_count": 28
        }
      ]
    },
    {
      "cell_type": "code",
      "source": [
        "import pickle\n",
        "pickle.dump(reg,open('reg_rf.pkl','wb'))\n",
        "print(\"Training process is complete Model File Saved!\")"
      ],
      "metadata": {
        "colab": {
          "base_uri": "https://localhost:8080/"
        },
        "id": "tlOKQ8D35jT0",
        "outputId": "b813a4e2-69b0-44d1-b2c9-18ec857bcd68"
      },
      "execution_count": null,
      "outputs": [
        {
          "output_type": "stream",
          "name": "stdout",
          "text": [
            "Training process is complete Model File Saved!\n"
          ]
        }
      ]
    }
  ]
}