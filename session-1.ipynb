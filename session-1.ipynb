{
 "cells": [
  {
   "cell_type": "markdown",
   "id": "ecf5d851",
   "metadata": {},
   "source": [
    "# Python Basics"
   ]
  },
  {
   "cell_type": "markdown",
   "id": "9088e84b",
   "metadata": {},
   "source": [
    "1. Spliting the string"
   ]
  },
  {
   "cell_type": "code",
   "execution_count": 1,
   "id": "e4e2a4f0",
   "metadata": {},
   "outputs": [
    {
     "name": "stdout",
     "output_type": "stream",
     "text": [
      "Enter a string to split: Hello this is IBM\n"
     ]
    },
    {
     "data": {
      "text/plain": [
       "['Hello', 'this', 'is', 'IBM']"
      ]
     },
     "execution_count": 1,
     "metadata": {},
     "output_type": "execute_result"
    }
   ],
   "source": [
    "Str = input(\"Enter a string to split: \")\n",
    "Str.split()"
   ]
  },
  {
   "cell_type": "markdown",
   "id": "276dd6f1",
   "metadata": {},
   "source": [
    "2. Use format() function to print the following string.\n",
    "\n",
    "Output: The diameter of Earth is 12742 kilometers."
   ]
  },
  {
   "cell_type": "code",
   "execution_count": 2,
   "id": "818e91bd",
   "metadata": {},
   "outputs": [
    {
     "name": "stdout",
     "output_type": "stream",
     "text": [
      "The diameter of Earth is 12742 kilometers.\n"
     ]
    }
   ],
   "source": [
    "planet = \"Earth\"\n",
    "diameter = 12742\n",
    "\n",
    "print(\"The diameter of {} is {} kilometers.\".format(planet,diameter))"
   ]
  },
  {
   "cell_type": "markdown",
   "id": "c6164e49",
   "metadata": {},
   "source": [
    "3. In this nest dictionary grab the word \"hello\"."
   ]
  },
  {
   "cell_type": "code",
   "execution_count": 3,
   "id": "48ca425c",
   "metadata": {},
   "outputs": [
    {
     "name": "stdout",
     "output_type": "stream",
     "text": [
      "hello\n"
     ]
    }
   ],
   "source": [
    "d = {'k1':[1,2,3,{'tricky':['oh','man','inception',{'target':[1,2,3,'hello']}]}]}\n",
    "\n",
    "print(d['k1'][3]['tricky'][3]['target'][3])"
   ]
  },
  {
   "cell_type": "markdown",
   "id": "9994c534",
   "metadata": {},
   "source": [
    "# Numpy"
   ]
  },
  {
   "cell_type": "code",
   "execution_count": 4,
   "id": "d14a5101",
   "metadata": {},
   "outputs": [],
   "source": [
    "import numpy as np"
   ]
  },
  {
   "cell_type": "markdown",
   "id": "2c940bde",
   "metadata": {},
   "source": [
    "4.1 Create an array of 10 zeros?"
   ]
  },
  {
   "cell_type": "code",
   "execution_count": 5,
   "id": "f860d24d",
   "metadata": {},
   "outputs": [
    {
     "data": {
      "text/plain": [
       "array([0., 0., 0., 0., 0., 0., 0., 0., 0., 0.])"
      ]
     },
     "execution_count": 5,
     "metadata": {},
     "output_type": "execute_result"
    }
   ],
   "source": [
    "np.zeros(10)"
   ]
  },
  {
   "cell_type": "markdown",
   "id": "a370a143",
   "metadata": {},
   "source": [
    "4.2 Create an array of 10 fives? "
   ]
  },
  {
   "cell_type": "code",
   "execution_count": 6,
   "id": "83682a59",
   "metadata": {},
   "outputs": [
    {
     "data": {
      "text/plain": [
       "array([5., 5., 5., 5., 5., 5., 5., 5., 5., 5.])"
      ]
     },
     "execution_count": 6,
     "metadata": {},
     "output_type": "execute_result"
    }
   ],
   "source": [
    "np.ones(10) * 5"
   ]
  },
  {
   "cell_type": "markdown",
   "id": "5c80f444",
   "metadata": {},
   "source": [
    "5. Create an array of all the even integers from 20 to 35."
   ]
  },
  {
   "cell_type": "code",
   "execution_count": 7,
   "id": "6cfd5a7d",
   "metadata": {},
   "outputs": [
    {
     "data": {
      "text/plain": [
       "array([20, 22, 24, 26, 28, 30, 32, 34])"
      ]
     },
     "execution_count": 7,
     "metadata": {},
     "output_type": "execute_result"
    }
   ],
   "source": [
    "np.arange(20,35,2)"
   ]
  },
  {
   "cell_type": "markdown",
   "id": "9888e3bd",
   "metadata": {},
   "source": [
    "6. Create a 3x3 matrix with values ranging from 0 to 8."
   ]
  },
  {
   "cell_type": "code",
   "execution_count": 8,
   "id": "c637c0ee",
   "metadata": {},
   "outputs": [
    {
     "data": {
      "text/plain": [
       "array([[0, 1, 2],\n",
       "       [3, 4, 5],\n",
       "       [6, 7, 8]])"
      ]
     },
     "execution_count": 8,
     "metadata": {},
     "output_type": "execute_result"
    }
   ],
   "source": [
    "np.arange(0,9).reshape(3,3)"
   ]
  },
  {
   "cell_type": "markdown",
   "id": "4cc30a15",
   "metadata": {},
   "source": [
    "7. Concatinate a and b."
   ]
  },
  {
   "cell_type": "code",
   "execution_count": 9,
   "id": "787395af",
   "metadata": {},
   "outputs": [
    {
     "name": "stdout",
     "output_type": "stream",
     "text": [
      "[1 2 3 4 5 6]\n"
     ]
    }
   ],
   "source": [
    "a = np.array([1,2,3])\n",
    "b = np.array([4,5,6])\n",
    "c = np.concatenate((a,b),axis = 0)\n",
    "print(c)"
   ]
  },
  {
   "cell_type": "markdown",
   "id": "ca77ebcd",
   "metadata": {},
   "source": [
    "# Pandas"
   ]
  },
  {
   "cell_type": "markdown",
   "id": "75410cf8",
   "metadata": {},
   "source": [
    "8. Create a dataframe with 3 rows and 2 columns."
   ]
  },
  {
   "cell_type": "code",
   "execution_count": 10,
   "id": "102db5fe",
   "metadata": {},
   "outputs": [],
   "source": [
    "import pandas as pd"
   ]
  },
  {
   "cell_type": "markdown",
   "id": "042a960c",
   "metadata": {},
   "source": [
    "9. Generate the series of dates from 1st Jan, 2023 to 10th Feb, 2023."
   ]
  },
  {
   "cell_type": "code",
   "execution_count": 12,
   "id": "a2e5eba7",
   "metadata": {},
   "outputs": [
    {
     "data": {
      "text/plain": [
       "array(['2023-01-01', '2023-01-02', '2023-01-03', '2023-01-04',\n",
       "       '2023-01-05', '2023-01-06', '2023-01-07', '2023-01-08',\n",
       "       '2023-01-09', '2023-01-10', '2023-01-11', '2023-01-12',\n",
       "       '2023-01-13', '2023-01-14', '2023-01-15', '2023-01-16',\n",
       "       '2023-01-17', '2023-01-18', '2023-01-19', '2023-01-20',\n",
       "       '2023-01-21', '2023-01-22', '2023-01-23', '2023-01-24',\n",
       "       '2023-01-25', '2023-01-26', '2023-01-27', '2023-01-28',\n",
       "       '2023-01-29', '2023-01-30', '2023-01-31', '2023-02-01',\n",
       "       '2023-02-02', '2023-02-03', '2023-02-04', '2023-02-05',\n",
       "       '2023-02-06', '2023-02-07', '2023-02-08', '2023-02-09'],\n",
       "      dtype='datetime64[D]')"
      ]
     },
     "execution_count": 12,
     "metadata": {},
     "output_type": "execute_result"
    }
   ],
   "source": [
    "np.arange('2023-01-01','2023-02-10',dtype='datetime64[D]')"
   ]
  },
  {
   "cell_type": "markdown",
   "id": "07795a6d",
   "metadata": {},
   "source": [
    "10. Create 2D list to DataFrame."
   ]
  },
  {
   "cell_type": "code",
   "execution_count": 13,
   "id": "225ea441",
   "metadata": {},
   "outputs": [
    {
     "name": "stdout",
     "output_type": "stream",
     "text": [
      "   0    1   2\n",
      "0  1  aaa  22\n",
      "1  2  bbb  25\n",
      "2  3  ccc  24\n"
     ]
    }
   ],
   "source": [
    "lists = [[1, 'aaa', 22], [2, 'bbb', 25], [3, 'ccc', 24]]\n",
    "df = pd.DataFrame(lists)\n",
    "print(df)"
   ]
  }
 ],
 "metadata": {
  "kernelspec": {
   "display_name": "Python 3.10.5 64-bit",
   "language": "python",
   "name": "python3"
  },
  "language_info": {
   "codemirror_mode": {
    "name": "ipython",
    "version": 3
   },
   "file_extension": ".py",
   "mimetype": "text/x-python",
   "name": "python",
   "nbconvert_exporter": "python",
   "pygments_lexer": "ipython3",
   "version": "3.10.5"
  },
  "vscode": {
   "interpreter": {
    "hash": "dbdcca0339d526c7d46fa6cb37fa5fc59498b3330baf7eff998ba9f4081155c2"
   }
  }
 },
 "nbformat": 4,
 "nbformat_minor": 5
}
